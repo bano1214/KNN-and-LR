{
 "cells": [
  {
   "cell_type": "markdown",
   "id": "6e063dd6",
   "metadata": {},
   "source": [
    "# Import packages"
   ]
  },
  {
   "cell_type": "code",
   "execution_count": 1,
   "id": "5f83d8e1",
   "metadata": {},
   "outputs": [],
   "source": [
    "from pathlib import Path\n",
    "import pandas as pd\n",
    "from sklearn import preprocessing\n",
    "from sklearn.model_selection import train_test_split\n",
    "from sklearn.metrics import accuracy_score\n",
    "from sklearn.neighbors import NearestNeighbors, KNeighborsClassifier\n",
    "import matplotlib.pylab as plt\n",
    "from sklearn.neighbors import KNeighborsRegressor\n",
    "from sklearn.preprocessing import StandardScaler\n",
    "import numpy as np\n",
    "from sklearn.metrics import mean_squared_error\n",
    "from math import sqrt\n",
    "import seaborn as sns\n",
    "from sklearn.decomposition import PCA\n",
    "import numpy as np"
   ]
  },
  {
   "cell_type": "markdown",
   "id": "62faa6ff",
   "metadata": {},
   "source": [
    "# Read the data, use only the first 1436 records and select columns for KNN"
   ]
  },
  {
   "cell_type": "code",
   "execution_count": 2,
   "id": "cc1d318d",
   "metadata": {},
   "outputs": [],
   "source": [
    "car_df = pd.read_csv('TrainingDataToyotaCorolla.csv') \n",
    "car_df = car_df.iloc[0:1436]"
   ]
  },
  {
   "cell_type": "markdown",
   "id": "44fa9a58",
   "metadata": {},
   "source": [
    "# Add index and present the 1436 data records"
   ]
  },
  {
   "cell_type": "code",
   "execution_count": 3,
   "id": "ad1967f1",
   "metadata": {},
   "outputs": [
    {
     "data": {
      "text/html": [
       "<div>\n",
       "<style scoped>\n",
       "    .dataframe tbody tr th:only-of-type {\n",
       "        vertical-align: middle;\n",
       "    }\n",
       "\n",
       "    .dataframe tbody tr th {\n",
       "        vertical-align: top;\n",
       "    }\n",
       "\n",
       "    .dataframe thead th {\n",
       "        text-align: right;\n",
       "    }\n",
       "</style>\n",
       "<table border=\"1\" class=\"dataframe\">\n",
       "  <thead>\n",
       "    <tr style=\"text-align: right;\">\n",
       "      <th></th>\n",
       "      <th>Price</th>\n",
       "      <th>Age_08_04</th>\n",
       "      <th>HP</th>\n",
       "      <th>Quarterly_Tax</th>\n",
       "      <th>Automatic_airco</th>\n",
       "      <th>Number</th>\n",
       "    </tr>\n",
       "  </thead>\n",
       "  <tbody>\n",
       "    <tr>\n",
       "      <th>0</th>\n",
       "      <td>13500</td>\n",
       "      <td>23</td>\n",
       "      <td>90</td>\n",
       "      <td>210</td>\n",
       "      <td>0</td>\n",
       "      <td>1</td>\n",
       "    </tr>\n",
       "    <tr>\n",
       "      <th>1</th>\n",
       "      <td>13750</td>\n",
       "      <td>23</td>\n",
       "      <td>90</td>\n",
       "      <td>210</td>\n",
       "      <td>0</td>\n",
       "      <td>2</td>\n",
       "    </tr>\n",
       "    <tr>\n",
       "      <th>2</th>\n",
       "      <td>13950</td>\n",
       "      <td>24</td>\n",
       "      <td>90</td>\n",
       "      <td>210</td>\n",
       "      <td>0</td>\n",
       "      <td>3</td>\n",
       "    </tr>\n",
       "    <tr>\n",
       "      <th>3</th>\n",
       "      <td>14950</td>\n",
       "      <td>26</td>\n",
       "      <td>90</td>\n",
       "      <td>210</td>\n",
       "      <td>0</td>\n",
       "      <td>4</td>\n",
       "    </tr>\n",
       "    <tr>\n",
       "      <th>4</th>\n",
       "      <td>13750</td>\n",
       "      <td>30</td>\n",
       "      <td>90</td>\n",
       "      <td>210</td>\n",
       "      <td>0</td>\n",
       "      <td>5</td>\n",
       "    </tr>\n",
       "    <tr>\n",
       "      <th>...</th>\n",
       "      <td>...</td>\n",
       "      <td>...</td>\n",
       "      <td>...</td>\n",
       "      <td>...</td>\n",
       "      <td>...</td>\n",
       "      <td>...</td>\n",
       "    </tr>\n",
       "    <tr>\n",
       "      <th>1431</th>\n",
       "      <td>7500</td>\n",
       "      <td>69</td>\n",
       "      <td>86</td>\n",
       "      <td>69</td>\n",
       "      <td>0</td>\n",
       "      <td>1432</td>\n",
       "    </tr>\n",
       "    <tr>\n",
       "      <th>1432</th>\n",
       "      <td>10845</td>\n",
       "      <td>72</td>\n",
       "      <td>86</td>\n",
       "      <td>69</td>\n",
       "      <td>0</td>\n",
       "      <td>1433</td>\n",
       "    </tr>\n",
       "    <tr>\n",
       "      <th>1433</th>\n",
       "      <td>8500</td>\n",
       "      <td>71</td>\n",
       "      <td>86</td>\n",
       "      <td>69</td>\n",
       "      <td>0</td>\n",
       "      <td>1434</td>\n",
       "    </tr>\n",
       "    <tr>\n",
       "      <th>1434</th>\n",
       "      <td>7250</td>\n",
       "      <td>70</td>\n",
       "      <td>86</td>\n",
       "      <td>69</td>\n",
       "      <td>0</td>\n",
       "      <td>1435</td>\n",
       "    </tr>\n",
       "    <tr>\n",
       "      <th>1435</th>\n",
       "      <td>6950</td>\n",
       "      <td>76</td>\n",
       "      <td>110</td>\n",
       "      <td>19</td>\n",
       "      <td>0</td>\n",
       "      <td>1436</td>\n",
       "    </tr>\n",
       "  </tbody>\n",
       "</table>\n",
       "<p>1436 rows × 6 columns</p>\n",
       "</div>"
      ],
      "text/plain": [
       "      Price  Age_08_04   HP  Quarterly_Tax  Automatic_airco  Number\n",
       "0     13500         23   90            210                0       1\n",
       "1     13750         23   90            210                0       2\n",
       "2     13950         24   90            210                0       3\n",
       "3     14950         26   90            210                0       4\n",
       "4     13750         30   90            210                0       5\n",
       "...     ...        ...  ...            ...              ...     ...\n",
       "1431   7500         69   86             69                0    1432\n",
       "1432  10845         72   86             69                0    1433\n",
       "1433   8500         71   86             69                0    1434\n",
       "1434   7250         70   86             69                0    1435\n",
       "1435   6950         76  110             19                0    1436\n",
       "\n",
       "[1436 rows x 6 columns]"
      ]
     },
     "execution_count": 3,
     "metadata": {},
     "output_type": "execute_result"
    }
   ],
   "source": [
    "car_df['Number'] = car_df.index + 1\n",
    "car_df.head(1436)"
   ]
  },
  {
   "cell_type": "markdown",
   "id": "df9d642a",
   "metadata": {},
   "source": [
    "# Spliting the data into training and testing set"
   ]
  },
  {
   "cell_type": "code",
   "execution_count": 4,
   "id": "39ab8a3b",
   "metadata": {},
   "outputs": [
    {
     "name": "stdout",
     "output_type": "stream",
     "text": [
      "(861, 6) (575, 6)\n"
     ]
    }
   ],
   "source": [
    "trainData, validData = train_test_split(car_df, test_size=0.4, random_state=1437)\n",
    "print(trainData.shape, validData.shape)"
   ]
  },
  {
   "cell_type": "markdown",
   "id": "e31ff741",
   "metadata": {},
   "source": [
    "# Establish Testing data to be classified by the model"
   ]
  },
  {
   "cell_type": "code",
   "execution_count": 5,
   "id": "b57bf3cd",
   "metadata": {},
   "outputs": [
    {
     "data": {
      "text/html": [
       "<div>\n",
       "<style scoped>\n",
       "    .dataframe tbody tr th:only-of-type {\n",
       "        vertical-align: middle;\n",
       "    }\n",
       "\n",
       "    .dataframe tbody tr th {\n",
       "        vertical-align: top;\n",
       "    }\n",
       "\n",
       "    .dataframe thead th {\n",
       "        text-align: right;\n",
       "    }\n",
       "</style>\n",
       "<table border=\"1\" class=\"dataframe\">\n",
       "  <thead>\n",
       "    <tr style=\"text-align: right;\">\n",
       "      <th></th>\n",
       "      <th>Age_08_04</th>\n",
       "      <th>HP</th>\n",
       "      <th>Quarterly_Tax</th>\n",
       "      <th>Automatic_airco</th>\n",
       "    </tr>\n",
       "  </thead>\n",
       "  <tbody>\n",
       "    <tr>\n",
       "      <th>0</th>\n",
       "      <td>23</td>\n",
       "      <td>90</td>\n",
       "      <td>210</td>\n",
       "      <td>0</td>\n",
       "    </tr>\n",
       "    <tr>\n",
       "      <th>1</th>\n",
       "      <td>23</td>\n",
       "      <td>90</td>\n",
       "      <td>210</td>\n",
       "      <td>0</td>\n",
       "    </tr>\n",
       "  </tbody>\n",
       "</table>\n",
       "</div>"
      ],
      "text/plain": [
       "   Age_08_04  HP  Quarterly_Tax  Automatic_airco\n",
       "0         23  90            210                0\n",
       "1         23  90            210                0"
      ]
     },
     "execution_count": 5,
     "metadata": {},
     "output_type": "execute_result"
    }
   ],
   "source": [
    "car_df1 = pd.DataFrame({'Age_08_04': [23,23],'HP':[90,90], 'Quarterly_Tax':[210,210],'Automatic_airco': [0,0]})\n",
    "car_df1"
   ]
  },
  {
   "cell_type": "markdown",
   "id": "a846696f",
   "metadata": {},
   "source": [
    "# As the data variables (Age_08_04 and Automatic_airco) are with different ranges, they must be normalized into [z scores]  and \n",
    "# Transform the full dataset"
   ]
  },
  {
   "cell_type": "code",
   "execution_count": 6,
   "id": "b88d34cb",
   "metadata": {},
   "outputs": [],
   "source": [
    "scaler = preprocessing.StandardScaler()\n",
    "scaler.fit(trainData[['Age_08_04', 'HP','Quarterly_Tax','Automatic_airco']])  # Note the use of an array of column names  \n",
    "\n",
    "carNorm = pd.concat([pd.DataFrame(scaler.transform(car_df[['Age_08_04','HP','Quarterly_Tax' ,'Automatic_airco']]),\n",
    "                                    columns=['zAge_08_04','zHP','zQuarterly_Tax','zAutomatic_airco']),\n",
    "                       car_df[['Price', 'Number']]], axis=1)\n",
    "trainNorm = carNorm.iloc[trainData.index]\n",
    "validNorm = carNorm.iloc[validData.index]\n",
    "newcarNorm = pd.DataFrame(scaler.transform(car_df1), columns=['zAge_08_04','zHP','zQuarterly_Tax','zAutomatic_airco'])"
   ]
  },
  {
   "cell_type": "markdown",
   "id": "e5364dc9",
   "metadata": {},
   "source": [
    "# Use k-nearest neighbour against the normalized training data with K=5"
   ]
  },
  {
   "cell_type": "code",
   "execution_count": 7,
   "id": "1683bbdd",
   "metadata": {},
   "outputs": [
    {
     "name": "stdout",
     "output_type": "stream",
     "text": [
      "   zAge_08_04       zHP  zQuarterly_Tax  zAutomatic_airco  Price  Number\n",
      "0   -1.764844 -0.777545        3.067661         -0.266262  13500       1\n",
      "1   -1.764844 -0.777545        3.067661         -0.266262  13750       2\n",
      "2   -1.711624 -0.777545        3.067661         -0.266262  13950       3\n",
      "3   -1.605185 -0.777545        3.067661         -0.266262  14950       4\n",
      "7   -1.392306 -0.777545        3.067661         -0.266262  18600       8\n"
     ]
    }
   ],
   "source": [
    "knn = NearestNeighbors(n_neighbors=5)\n",
    "knn.fit(trainNorm[['zAge_08_04','zHP','zQuarterly_Tax','zAutomatic_airco']])\n",
    "distances, indices = knn.kneighbors(newcarNorm)\n",
    "print(trainNorm.iloc[indices[0], :])  # indices is a list of lists, we are only interested in the first element"
   ]
  },
  {
   "cell_type": "markdown",
   "id": "90608928",
   "metadata": {},
   "source": [
    "# Use k-nearest neighbour against the normalized training data with K=10"
   ]
  },
  {
   "cell_type": "code",
   "execution_count": 8,
   "id": "97a04aff",
   "metadata": {},
   "outputs": [
    {
     "name": "stdout",
     "output_type": "stream",
     "text": [
      "     zAge_08_04       zHP  zQuarterly_Tax  zAutomatic_airco  Price  Number\n",
      "0     -1.764844 -0.777545        3.067661         -0.266262  13500       1\n",
      "1     -1.764844 -0.777545        3.067661         -0.266262  13750       2\n",
      "2     -1.711624 -0.777545        3.067661         -0.266262  13950       3\n",
      "3     -1.605185 -0.777545        3.067661         -0.266262  14950       4\n",
      "7     -1.392306 -0.777545        3.067661         -0.266262  18600       8\n",
      "5     -1.285866 -0.777545        3.067661         -0.266262  12950       6\n",
      "243   -1.232646 -0.777545        3.067661         -0.266262  13500     244\n",
      "214   -1.232646 -0.777545        3.067661         -0.266262  13500     215\n",
      "48    -1.818064 -0.777545        3.662879         -0.266262  17950      49\n",
      "118   -1.924503 -0.777545        3.662879         -0.266262  19250     119\n"
     ]
    }
   ],
   "source": [
    "knn = NearestNeighbors(n_neighbors=10)\n",
    "knn.fit(trainNorm[['zAge_08_04','zHP','zQuarterly_Tax','zAutomatic_airco']])\n",
    "distances, indices = knn.kneighbors(newcarNorm)\n",
    "print(trainNorm.iloc[indices[0], :])  # indices is a list of lists, we are only interested in the first element"
   ]
  },
  {
   "cell_type": "markdown",
   "id": "7c3e0816",
   "metadata": {},
   "source": [
    "# To check which K gives the best results lets initialize a data frame with two columns: `k` and `accuracy"
   ]
  },
  {
   "cell_type": "code",
   "execution_count": 9,
   "id": "cce2fed4",
   "metadata": {},
   "outputs": [
    {
     "name": "stdout",
     "output_type": "stream",
     "text": [
      "       k  accuracy\n",
      "0      1  0.073043\n",
      "1      2  0.050435\n",
      "2      3  0.046957\n",
      "3      4  0.043478\n",
      "4      5  0.057391\n",
      "..   ...       ...\n",
      "855  856  0.067826\n",
      "856  857  0.067826\n",
      "857  858  0.067826\n",
      "858  859  0.067826\n",
      "859  860  0.067826\n",
      "\n",
      "[860 rows x 2 columns]\n"
     ]
    }
   ],
   "source": [
    "train_X = trainNorm[['zAge_08_04','zHP','zQuarterly_Tax','zAutomatic_airco']]\n",
    "train_y = trainNorm['Price']\n",
    "valid_X = validNorm[['zAge_08_04','zHP','zQuarterly_Tax','zAutomatic_airco']]\n",
    "valid_y = validNorm['Price']\n",
    "# Train a classifier for different values of k\n",
    "results = []\n",
    "for k in range(1,861):\n",
    "    knn = KNeighborsClassifier(n_neighbors=k).fit(train_X, train_y)\n",
    "    results.append({'k': k,'accuracy': accuracy_score(valid_y, knn.predict(valid_X))})  \n",
    "    # Convert results to a pandas data frame\n",
    "results = pd.DataFrame(results)\n",
    "print(results)"
   ]
  },
  {
   "cell_type": "code",
   "execution_count": 10,
   "id": "7e0e29f1",
   "metadata": {},
   "outputs": [],
   "source": [
    "pd.set_option('display.max_rows', None)\n",
    "pd.set_option('display.max_columns', None)\n",
    "pd.set_option('display.width', None)\n",
    "pd.set_option('display.max_colwidth', None)"
   ]
  },
  {
   "cell_type": "code",
   "execution_count": null,
   "id": "d04ab4fa",
   "metadata": {},
   "outputs": [],
   "source": []
  }
 ],
 "metadata": {
  "kernelspec": {
   "display_name": "Python 3",
   "language": "python",
   "name": "python3"
  },
  "language_info": {
   "codemirror_mode": {
    "name": "ipython",
    "version": 3
   },
   "file_extension": ".py",
   "mimetype": "text/x-python",
   "name": "python",
   "nbconvert_exporter": "python",
   "pygments_lexer": "ipython3",
   "version": "3.8.8"
  }
 },
 "nbformat": 4,
 "nbformat_minor": 5
}
