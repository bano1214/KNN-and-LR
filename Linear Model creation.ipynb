{
 "cells": [
  {
   "cell_type": "markdown",
   "id": "f38145ce",
   "metadata": {},
   "source": [
    "# Import Required Packages\n"
   ]
  },
  {
   "cell_type": "code",
   "execution_count": 1,
   "id": "01819b61",
   "metadata": {},
   "outputs": [],
   "source": [
    "    import pandas as pd\n",
    "    from sklearn.model_selection import train_test_split\n",
    "    from sklearn.linear_model import LinearRegression, Lasso, Ridge, LassoCV, BayesianRidge\n",
    "    import statsmodels.formula.api as sm\n",
    "    import matplotlib.pylab as plt\n",
    "    from dmba import regressionSummary, exhaustive_search\n",
    "    from dmba import backward_elimination, forward_selection, stepwise_selection\n",
    "    from dmba import adjusted_r2_score, AIC_score, BIC_score"
   ]
  },
  {
   "cell_type": "markdown",
   "id": "08d1721f",
   "metadata": {},
   "source": [
    "# Read the data and select columns for regression analysis"
   ]
  },
  {
   "cell_type": "code",
   "execution_count": 3,
   "id": "9271bcbf",
   "metadata": {},
   "outputs": [],
   "source": [
    "car_df = pd.read_csv('TestingDataToyotaCorolla.csv')  \n",
    "\n",
    "predictors = ['Age_08_04','HP','Quarterly_Tax','Automatic_airco']\n",
    "outcome = 'Price'"
   ]
  },
  {
   "cell_type": "markdown",
   "id": "6ce69072",
   "metadata": {},
   "source": [
    "# Partition data into predictors (x) and output (y)"
   ]
  },
  {
   "cell_type": "code",
   "execution_count": 4,
   "id": "ac9f2e1e",
   "metadata": {},
   "outputs": [],
   "source": [
    "X = car_df[predictors]\n",
    "y = car_df[outcome]"
   ]
  },
  {
   "cell_type": "code",
   "execution_count": 5,
   "id": "0a15df40",
   "metadata": {},
   "outputs": [
    {
     "data": {
      "text/html": [
       "<div>\n",
       "<style scoped>\n",
       "    .dataframe tbody tr th:only-of-type {\n",
       "        vertical-align: middle;\n",
       "    }\n",
       "\n",
       "    .dataframe tbody tr th {\n",
       "        vertical-align: top;\n",
       "    }\n",
       "\n",
       "    .dataframe thead th {\n",
       "        text-align: right;\n",
       "    }\n",
       "</style>\n",
       "<table border=\"1\" class=\"dataframe\">\n",
       "  <thead>\n",
       "    <tr style=\"text-align: right;\">\n",
       "      <th></th>\n",
       "      <th>Age_08_04</th>\n",
       "      <th>HP</th>\n",
       "      <th>Quarterly_Tax</th>\n",
       "      <th>Automatic_airco</th>\n",
       "    </tr>\n",
       "  </thead>\n",
       "  <tbody>\n",
       "    <tr>\n",
       "      <th>0</th>\n",
       "      <td>23</td>\n",
       "      <td>90</td>\n",
       "      <td>210</td>\n",
       "      <td>0</td>\n",
       "    </tr>\n",
       "    <tr>\n",
       "      <th>1</th>\n",
       "      <td>23</td>\n",
       "      <td>90</td>\n",
       "      <td>210</td>\n",
       "      <td>0</td>\n",
       "    </tr>\n",
       "  </tbody>\n",
       "</table>\n",
       "</div>"
      ],
      "text/plain": [
       "   Age_08_04  HP  Quarterly_Tax  Automatic_airco\n",
       "0         23  90            210                0\n",
       "1         23  90            210                0"
      ]
     },
     "execution_count": 5,
     "metadata": {},
     "output_type": "execute_result"
    }
   ],
   "source": [
    "X"
   ]
  },
  {
   "cell_type": "markdown",
   "id": "9b2ab254",
   "metadata": {},
   "source": [
    "# Built the Linear Model based on the testing data"
   ]
  },
  {
   "cell_type": "code",
   "execution_count": 5,
   "id": "4139f9a1",
   "metadata": {},
   "outputs": [
    {
     "data": {
      "text/plain": [
       "LinearRegression()"
      ]
     },
     "execution_count": 5,
     "metadata": {},
     "output_type": "execute_result"
    }
   ],
   "source": [
    "car_lm = LinearRegression()\n",
    "car_lm.fit(X,y)"
   ]
  },
  {
   "cell_type": "markdown",
   "id": "cdfabc68",
   "metadata": {},
   "source": [
    "# Print Coefficients "
   ]
  },
  {
   "cell_type": "code",
   "execution_count": 8,
   "id": "72725224",
   "metadata": {},
   "outputs": [
    {
     "name": "stdout",
     "output_type": "stream",
     "text": [
      "[0. 0. 0. 0.]\n"
     ]
    }
   ],
   "source": [
    "print(car_lm.coef_)"
   ]
  },
  {
   "cell_type": "markdown",
   "id": "c5e8cdab",
   "metadata": {},
   "source": [
    "# Print Intercept"
   ]
  },
  {
   "cell_type": "code",
   "execution_count": 13,
   "id": "191c2254",
   "metadata": {},
   "outputs": [
    {
     "name": "stdout",
     "output_type": "stream",
     "text": [
      "13625.0\n"
     ]
    }
   ],
   "source": [
    "print(car_lm.intercept_)"
   ]
  },
  {
   "cell_type": "markdown",
   "id": "a089e6f7",
   "metadata": {},
   "source": [
    "# Print Predcited and actual price with residual using Predict Function()"
   ]
  },
  {
   "cell_type": "code",
   "execution_count": 14,
   "id": "d33b0e2c",
   "metadata": {},
   "outputs": [
    {
     "name": "stdout",
     "output_type": "stream",
     "text": [
      "   Predicted  Actual  Residual\n",
      "0    13625.0   13500    -125.0\n",
      "1    13625.0   13750     125.0\n"
     ]
    }
   ],
   "source": [
    "car_lm_pred = car_lm.predict(X)\n",
    "result = pd.DataFrame({'Predicted': car_lm_pred, 'Actual': y,'Residual': y - car_lm_pred})\n",
    "print(result)"
   ]
  }
 ],
 "metadata": {
  "kernelspec": {
   "display_name": "Python 3",
   "language": "python",
   "name": "python3"
  },
  "language_info": {
   "codemirror_mode": {
    "name": "ipython",
    "version": 3
   },
   "file_extension": ".py",
   "mimetype": "text/x-python",
   "name": "python",
   "nbconvert_exporter": "python",
   "pygments_lexer": "ipython3",
   "version": "3.8.8"
  }
 },
 "nbformat": 4,
 "nbformat_minor": 5
}
